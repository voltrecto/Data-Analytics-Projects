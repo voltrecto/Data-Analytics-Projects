{
  "nbformat": 4,
  "nbformat_minor": 0,
  "metadata": {
    "colab": {
      "name": "Steam RPGs.ipynb",
      "provenance": [],
      "collapsed_sections": [],
      "mount_file_id": "1zeNyqPLMXc9-ugyuYL37ShqRQP1wwkU0",
      "authorship_tag": "ABX9TyPmkpjhGYRujEyUM+gh6wym"
    },
    "kernelspec": {
      "name": "python3",
      "display_name": "Python 3"
    },
    "language_info": {
      "name": "python"
    }
  },
  "cells": [
    {
      "cell_type": "markdown",
      "metadata": {
        "id": "hC7M86S_cTgv"
      },
      "source": [
        "# Reviewing Data of RPG Steam Games using Python and Pandas\n",
        "Data Source: https://steamspy.com/ 19 July 2021\n",
        "\n",
        "Created Jupyter Notebook in Google Colabotary"
      ]
    },
    {
      "cell_type": "code",
      "metadata": {
        "id": "tWoQXQUOHAi-"
      },
      "source": [
        "import numpy as np\n",
        "import pandas as pd\n"
      ],
      "execution_count": 74,
      "outputs": []
    },
    {
      "cell_type": "markdown",
      "metadata": {
        "id": "OCYGlgHgsTm6"
      },
      "source": [
        "Uploaded data to Google drive and linked to notebook."
      ]
    },
    {
      "cell_type": "code",
      "metadata": {
        "id": "pYaEILmsbts9"
      },
      "source": [
        "df = pd.read_csv('drive/MyDrive/steamrpg.csv')"
      ],
      "execution_count": null,
      "outputs": []
    },
    {
      "cell_type": "code",
      "metadata": {
        "colab": {
          "base_uri": "https://localhost:8080/",
          "height": 289
        },
        "id": "FF9ePAHRcaUf",
        "outputId": "8ef8ed17-2561-46ae-88fc-8559162fcc96"
      },
      "source": [
        "df.head()"
      ],
      "execution_count": null,
      "outputs": [
        {
          "output_type": "execute_result",
          "data": {
            "text/html": [
              "<div>\n",
              "<style scoped>\n",
              "    .dataframe tbody tr th:only-of-type {\n",
              "        vertical-align: middle;\n",
              "    }\n",
              "\n",
              "    .dataframe tbody tr th {\n",
              "        vertical-align: top;\n",
              "    }\n",
              "\n",
              "    .dataframe thead th {\n",
              "        text-align: right;\n",
              "    }\n",
              "</style>\n",
              "<table border=\"1\" class=\"dataframe\">\n",
              "  <thead>\n",
              "    <tr style=\"text-align: right;\">\n",
              "      <th></th>\n",
              "      <th>#</th>\n",
              "      <th>Game</th>\n",
              "      <th>Release date</th>\n",
              "      <th>Price</th>\n",
              "      <th>Score rank(Userscore / Metascore)</th>\n",
              "      <th>Owners</th>\n",
              "      <th>Playtime (Median)</th>\n",
              "      <th>Developer(s)</th>\n",
              "      <th>Publisher(s)</th>\n",
              "    </tr>\n",
              "  </thead>\n",
              "  <tbody>\n",
              "    <tr>\n",
              "      <th>0</th>\n",
              "      <td>120</td>\n",
              "      <td>Terraria</td>\n",
              "      <td>May 16, 2011</td>\n",
              "      <td>$9.99</td>\n",
              "      <td>N/A (N/A/83%)</td>\n",
              "      <td>20,000,000 .. 50,000,000</td>\n",
              "      <td>06:23 (02:48)</td>\n",
              "      <td>Re-Logic</td>\n",
              "      <td>Re-Logic</td>\n",
              "    </tr>\n",
              "    <tr>\n",
              "      <th>1</th>\n",
              "      <td>525</td>\n",
              "      <td>Rust</td>\n",
              "      <td>Feb 8, 2018</td>\n",
              "      <td>$39.99</td>\n",
              "      <td>N/A (N/A/69%)</td>\n",
              "      <td>20,000,000 .. 50,000,000</td>\n",
              "      <td>19:20 (09:08)</td>\n",
              "      <td>Facepunch Studios</td>\n",
              "      <td>Facepunch Studios</td>\n",
              "    </tr>\n",
              "    <tr>\n",
              "      <th>2</th>\n",
              "      <td>10</td>\n",
              "      <td>The Witcher 3: Wild Hunt</td>\n",
              "      <td>May 18, 2015</td>\n",
              "      <td>$39.99</td>\n",
              "      <td>N/A (N/A/93%)</td>\n",
              "      <td>10,000,000 .. 20,000,000</td>\n",
              "      <td>16:56 (02:10)</td>\n",
              "      <td>CD PROJEKT RED</td>\n",
              "      <td>CD PROJEKT RED</td>\n",
              "    </tr>\n",
              "    <tr>\n",
              "      <th>3</th>\n",
              "      <td>33</td>\n",
              "      <td>Borderlands 2</td>\n",
              "      <td>Sep 17, 2012</td>\n",
              "      <td>$19.99</td>\n",
              "      <td>N/A (N/A/89%)</td>\n",
              "      <td>10,000,000 .. 20,000,000</td>\n",
              "      <td>02:08 (02:52)</td>\n",
              "      <td>Gearbox Software, Aspyr (Mac), Aspyr (Linux)</td>\n",
              "      <td>2K, Aspyr (Mac), Aspyr (Linux)</td>\n",
              "    </tr>\n",
              "    <tr>\n",
              "      <th>4</th>\n",
              "      <td>34</td>\n",
              "      <td>Stardew Valley</td>\n",
              "      <td>Feb 26, 2016</td>\n",
              "      <td>$14.99</td>\n",
              "      <td>N/A (N/A/89%)</td>\n",
              "      <td>10,000,000 .. 20,000,000</td>\n",
              "      <td>08:41 (05:35)</td>\n",
              "      <td>ConcernedApe</td>\n",
              "      <td>ConcernedApe</td>\n",
              "    </tr>\n",
              "  </tbody>\n",
              "</table>\n",
              "</div>"
            ],
            "text/plain": [
              "     #  ...                    Publisher(s)\n",
              "0  120  ...                        Re-Logic\n",
              "1  525  ...               Facepunch Studios\n",
              "2   10  ...                  CD PROJEKT RED\n",
              "3   33  ...  2K, Aspyr (Mac), Aspyr (Linux)\n",
              "4   34  ...                    ConcernedApe\n",
              "\n",
              "[5 rows x 9 columns]"
            ]
          },
          "metadata": {
            "tags": []
          },
          "execution_count": 59
        }
      ]
    },
    {
      "cell_type": "markdown",
      "metadata": {
        "id": "N_DWZ0PTs8y4"
      },
      "source": [
        "Rename first column to AppID"
      ]
    },
    {
      "cell_type": "code",
      "metadata": {
        "id": "u9R74yiXph5d"
      },
      "source": [
        "df = df.rename(columns={'#': 'AppID'})"
      ],
      "execution_count": 60,
      "outputs": []
    },
    {
      "cell_type": "markdown",
      "metadata": {
        "id": "v8MCH-ejtiwR"
      },
      "source": [
        "Add columns for min and max approximate number of owners"
      ]
    },
    {
      "cell_type": "code",
      "metadata": {
        "id": "w1p-5dIbjQbk",
        "colab": {
          "base_uri": "https://localhost:8080/"
        },
        "outputId": "40fa66c8-c935-4a14-80e7-b80e55f5c06f"
      },
      "source": [
        "df['Owners'].unique()"
      ],
      "execution_count": 70,
      "outputs": [
        {
          "output_type": "execute_result",
          "data": {
            "text/plain": [
              "array(['20,000,000\\xa0..\\xa050,000,000', '10,000,000\\xa0..\\xa020,000,000',\n",
              "       '5,000,000\\xa0..\\xa010,000,000', '2,000,000\\xa0..\\xa05,000,000',\n",
              "       '1,000,000\\xa0..\\xa02,000,000', '500,000\\xa0..\\xa01,000,000',\n",
              "       '200,000\\xa0..\\xa0500,000', '100,000\\xa0..\\xa0200,000',\n",
              "       '50,000\\xa0..\\xa0100,000', '20,000\\xa0..\\xa050,000',\n",
              "       '0\\xa0..\\xa020,000'], dtype=object)"
            ]
          },
          "metadata": {
            "tags": []
          },
          "execution_count": 70
        }
      ]
    },
    {
      "cell_type": "code",
      "metadata": {
        "id": "uLnphlR1kM6z"
      },
      "source": [
        "df[['Owners(Min)','Owners(Max)']] = df['Owners'].str.split('\\xa0..\\xa0',expand=True)"
      ],
      "execution_count": 61,
      "outputs": []
    },
    {
      "cell_type": "code",
      "metadata": {
        "id": "yWkP9fvonKtz"
      },
      "source": [
        "df['Owners(Max)']=df['Owners(Max)'].str.replace(',','')"
      ],
      "execution_count": 62,
      "outputs": []
    },
    {
      "cell_type": "code",
      "metadata": {
        "id": "r12tTH0Wm3pw"
      },
      "source": [
        "df['Owners(Max)'] = df['Owners(Max)'].astype(int)"
      ],
      "execution_count": 63,
      "outputs": []
    },
    {
      "cell_type": "code",
      "metadata": {
        "id": "hpeHhmPqkdXw",
        "colab": {
          "base_uri": "https://localhost:8080/",
          "height": 340
        },
        "outputId": "5a8aef56-76c4-4d56-d37d-048894648db8"
      },
      "source": [
        "df.head()"
      ],
      "execution_count": 64,
      "outputs": [
        {
          "output_type": "execute_result",
          "data": {
            "text/html": [
              "<div>\n",
              "<style scoped>\n",
              "    .dataframe tbody tr th:only-of-type {\n",
              "        vertical-align: middle;\n",
              "    }\n",
              "\n",
              "    .dataframe tbody tr th {\n",
              "        vertical-align: top;\n",
              "    }\n",
              "\n",
              "    .dataframe thead th {\n",
              "        text-align: right;\n",
              "    }\n",
              "</style>\n",
              "<table border=\"1\" class=\"dataframe\">\n",
              "  <thead>\n",
              "    <tr style=\"text-align: right;\">\n",
              "      <th></th>\n",
              "      <th>AppID</th>\n",
              "      <th>Game</th>\n",
              "      <th>Release date</th>\n",
              "      <th>Price</th>\n",
              "      <th>Score rank(Userscore / Metascore)</th>\n",
              "      <th>Owners</th>\n",
              "      <th>Playtime (Median)</th>\n",
              "      <th>Developer(s)</th>\n",
              "      <th>Publisher(s)</th>\n",
              "      <th>Owners(Min)</th>\n",
              "      <th>Owners(Max)</th>\n",
              "    </tr>\n",
              "  </thead>\n",
              "  <tbody>\n",
              "    <tr>\n",
              "      <th>0</th>\n",
              "      <td>120</td>\n",
              "      <td>Terraria</td>\n",
              "      <td>May 16, 2011</td>\n",
              "      <td>$9.99</td>\n",
              "      <td>N/A (N/A/83%)</td>\n",
              "      <td>20,000,000 .. 50,000,000</td>\n",
              "      <td>06:23 (02:48)</td>\n",
              "      <td>Re-Logic</td>\n",
              "      <td>Re-Logic</td>\n",
              "      <td>20,000,000</td>\n",
              "      <td>50000000</td>\n",
              "    </tr>\n",
              "    <tr>\n",
              "      <th>1</th>\n",
              "      <td>525</td>\n",
              "      <td>Rust</td>\n",
              "      <td>Feb 8, 2018</td>\n",
              "      <td>$39.99</td>\n",
              "      <td>N/A (N/A/69%)</td>\n",
              "      <td>20,000,000 .. 50,000,000</td>\n",
              "      <td>19:20 (09:08)</td>\n",
              "      <td>Facepunch Studios</td>\n",
              "      <td>Facepunch Studios</td>\n",
              "      <td>20,000,000</td>\n",
              "      <td>50000000</td>\n",
              "    </tr>\n",
              "    <tr>\n",
              "      <th>2</th>\n",
              "      <td>10</td>\n",
              "      <td>The Witcher 3: Wild Hunt</td>\n",
              "      <td>May 18, 2015</td>\n",
              "      <td>$39.99</td>\n",
              "      <td>N/A (N/A/93%)</td>\n",
              "      <td>10,000,000 .. 20,000,000</td>\n",
              "      <td>16:56 (02:10)</td>\n",
              "      <td>CD PROJEKT RED</td>\n",
              "      <td>CD PROJEKT RED</td>\n",
              "      <td>10,000,000</td>\n",
              "      <td>20000000</td>\n",
              "    </tr>\n",
              "    <tr>\n",
              "      <th>3</th>\n",
              "      <td>33</td>\n",
              "      <td>Borderlands 2</td>\n",
              "      <td>Sep 17, 2012</td>\n",
              "      <td>$19.99</td>\n",
              "      <td>N/A (N/A/89%)</td>\n",
              "      <td>10,000,000 .. 20,000,000</td>\n",
              "      <td>02:08 (02:52)</td>\n",
              "      <td>Gearbox Software, Aspyr (Mac), Aspyr (Linux)</td>\n",
              "      <td>2K, Aspyr (Mac), Aspyr (Linux)</td>\n",
              "      <td>10,000,000</td>\n",
              "      <td>20000000</td>\n",
              "    </tr>\n",
              "    <tr>\n",
              "      <th>4</th>\n",
              "      <td>34</td>\n",
              "      <td>Stardew Valley</td>\n",
              "      <td>Feb 26, 2016</td>\n",
              "      <td>$14.99</td>\n",
              "      <td>N/A (N/A/89%)</td>\n",
              "      <td>10,000,000 .. 20,000,000</td>\n",
              "      <td>08:41 (05:35)</td>\n",
              "      <td>ConcernedApe</td>\n",
              "      <td>ConcernedApe</td>\n",
              "      <td>10,000,000</td>\n",
              "      <td>20000000</td>\n",
              "    </tr>\n",
              "  </tbody>\n",
              "</table>\n",
              "</div>"
            ],
            "text/plain": [
              "   AppID                      Game  ... Owners(Min) Owners(Max)\n",
              "0    120                  Terraria  ...  20,000,000    50000000\n",
              "1    525                      Rust  ...  20,000,000    50000000\n",
              "2     10  The Witcher 3: Wild Hunt  ...  10,000,000    20000000\n",
              "3     33             Borderlands 2  ...  10,000,000    20000000\n",
              "4     34            Stardew Valley  ...  10,000,000    20000000\n",
              "\n",
              "[5 rows x 11 columns]"
            ]
          },
          "metadata": {
            "tags": []
          },
          "execution_count": 64
        }
      ]
    },
    {
      "cell_type": "markdown",
      "metadata": {
        "id": "k2QiX1B0tzh4"
      },
      "source": [
        "Checking for nulls"
      ]
    },
    {
      "cell_type": "code",
      "metadata": {
        "id": "ubUWsaCudwiT",
        "colab": {
          "base_uri": "https://localhost:8080/"
        },
        "outputId": "5186246c-5517-4659-8c7e-ae7a1312fd04"
      },
      "source": [
        "df.isnull().sum()"
      ],
      "execution_count": 65,
      "outputs": [
        {
          "output_type": "execute_result",
          "data": {
            "text/plain": [
              "AppID                                  0\n",
              "Game                                   1\n",
              "Release date                           0\n",
              "Price                                355\n",
              "Score rank(Userscore / Metascore)      0\n",
              "Owners                                 0\n",
              "Playtime (Median)                      0\n",
              "Developer(s)                           3\n",
              "Publisher(s)                          10\n",
              "Owners(Min)                            0\n",
              "Owners(Max)                            0\n",
              "dtype: int64"
            ]
          },
          "metadata": {
            "tags": []
          },
          "execution_count": 65
        }
      ]
    },
    {
      "cell_type": "code",
      "metadata": {
        "id": "_-ChC4eree-K",
        "colab": {
          "base_uri": "https://localhost:8080/",
          "height": 80
        },
        "outputId": "b0116faf-3f01-49c5-aaf8-5d1d82c8cbe2"
      },
      "source": [
        "df[df['Game'].isnull()]"
      ],
      "execution_count": 66,
      "outputs": [
        {
          "output_type": "execute_result",
          "data": {
            "text/html": [
              "<div>\n",
              "<style scoped>\n",
              "    .dataframe tbody tr th:only-of-type {\n",
              "        vertical-align: middle;\n",
              "    }\n",
              "\n",
              "    .dataframe tbody tr th {\n",
              "        vertical-align: top;\n",
              "    }\n",
              "\n",
              "    .dataframe thead th {\n",
              "        text-align: right;\n",
              "    }\n",
              "</style>\n",
              "<table border=\"1\" class=\"dataframe\">\n",
              "  <thead>\n",
              "    <tr style=\"text-align: right;\">\n",
              "      <th></th>\n",
              "      <th>AppID</th>\n",
              "      <th>Game</th>\n",
              "      <th>Release date</th>\n",
              "      <th>Price</th>\n",
              "      <th>Score rank(Userscore / Metascore)</th>\n",
              "      <th>Owners</th>\n",
              "      <th>Playtime (Median)</th>\n",
              "      <th>Developer(s)</th>\n",
              "      <th>Publisher(s)</th>\n",
              "      <th>Owners(Min)</th>\n",
              "      <th>Owners(Max)</th>\n",
              "    </tr>\n",
              "  </thead>\n",
              "  <tbody>\n",
              "    <tr>\n",
              "      <th>2436</th>\n",
              "      <td>5977</td>\n",
              "      <td>NaN</td>\n",
              "      <td>Jul 19, 2018</td>\n",
              "      <td>$2.99</td>\n",
              "      <td>N/A (N/A)</td>\n",
              "      <td>20,000 .. 50,000</td>\n",
              "      <td>00:00 (00:00)</td>\n",
              "      <td>Nuclear Tales</td>\n",
              "      <td>NaN</td>\n",
              "      <td>20,000</td>\n",
              "      <td>50000</td>\n",
              "    </tr>\n",
              "  </tbody>\n",
              "</table>\n",
              "</div>"
            ],
            "text/plain": [
              "      AppID Game  Release date  ... Publisher(s) Owners(Min) Owners(Max)\n",
              "2436   5977  NaN  Jul 19, 2018  ...          NaN      20,000       50000\n",
              "\n",
              "[1 rows x 11 columns]"
            ]
          },
          "metadata": {
            "tags": []
          },
          "execution_count": 66
        }
      ]
    },
    {
      "cell_type": "markdown",
      "metadata": {
        "id": "Ngy-5EOCt_Sn"
      },
      "source": [
        "Checking back the website, the missing game is called \"The Box.\" Correcting entry."
      ]
    },
    {
      "cell_type": "code",
      "metadata": {
        "id": "1ZjSMBlEwVhr"
      },
      "source": [
        "df.loc[2436,'Game'] = 'The Box'"
      ],
      "execution_count": 68,
      "outputs": []
    },
    {
      "cell_type": "code",
      "metadata": {
        "colab": {
          "base_uri": "https://localhost:8080/"
        },
        "id": "tmtpu7Iqwtr4",
        "outputId": "8917630e-9625-4afe-fd5e-e771afeb5dca"
      },
      "source": [
        "df.loc[2436]"
      ],
      "execution_count": 69,
      "outputs": [
        {
          "output_type": "execute_result",
          "data": {
            "text/plain": [
              "AppID                                            5977\n",
              "Game                                          The Box\n",
              "Release date                             Jul 19, 2018\n",
              "Price                                           $2.99\n",
              "Score rank(Userscore / Metascore)           N/A (N/A)\n",
              "Owners                               20,000 .. 50,000\n",
              "Playtime (Median)                       00:00 (00:00)\n",
              "Developer(s)                            Nuclear Tales\n",
              "Publisher(s)                                      NaN\n",
              "Owners(Min)                                    20,000\n",
              "Owners(Max)                                     50000\n",
              "Name: 2436, dtype: object"
            ]
          },
          "metadata": {
            "tags": []
          },
          "execution_count": 69
        }
      ]
    },
    {
      "cell_type": "markdown",
      "metadata": {
        "id": "Bwd2oyBdxSp3"
      },
      "source": [
        "Checking for duplicate games"
      ]
    },
    {
      "cell_type": "code",
      "metadata": {
        "colab": {
          "base_uri": "https://localhost:8080/"
        },
        "id": "o978VRAEp8kM",
        "outputId": "e8832430-04eb-4c89-bff8-6fa802e89f4f"
      },
      "source": [
        "df.duplicated(subset='Game').sum()"
      ],
      "execution_count": 71,
      "outputs": [
        {
          "output_type": "execute_result",
          "data": {
            "text/plain": [
              "0"
            ]
          },
          "metadata": {
            "tags": []
          },
          "execution_count": 71
        }
      ]
    },
    {
      "cell_type": "markdown",
      "metadata": {
        "id": "b2WLVRV0x3Xq"
      },
      "source": [
        "Looking at RPG popularity based on approximate number of owners"
      ]
    },
    {
      "cell_type": "code",
      "metadata": {
        "id": "6I7bXvQ6knzM",
        "colab": {
          "base_uri": "https://localhost:8080/"
        },
        "outputId": "9f249067-6bb8-4890-ec43-9316e20720ed"
      },
      "source": [
        "df['Owners(Max)'].value_counts()"
      ],
      "execution_count": 72,
      "outputs": [
        {
          "output_type": "execute_result",
          "data": {
            "text/plain": [
              "20000       5059\n",
              "50000       1048\n",
              "100000       602\n",
              "500000       425\n",
              "200000       409\n",
              "1000000      208\n",
              "2000000      111\n",
              "5000000       65\n",
              "10000000      16\n",
              "20000000      11\n",
              "50000000       2\n",
              "Name: Owners(Max), dtype: int64"
            ]
          },
          "metadata": {
            "tags": []
          },
          "execution_count": 72
        }
      ]
    },
    {
      "cell_type": "code",
      "metadata": {
        "id": "8W8L7h0jl9bl",
        "colab": {
          "base_uri": "https://localhost:8080/",
          "height": 724
        },
        "outputId": "9c94c790-7ce7-4436-e872-a85b21d6c9e2"
      },
      "source": [
        "df.loc[df['Owners(Max)'] >= 20000000]"
      ],
      "execution_count": 84,
      "outputs": [
        {
          "output_type": "execute_result",
          "data": {
            "text/html": [
              "<div>\n",
              "<style scoped>\n",
              "    .dataframe tbody tr th:only-of-type {\n",
              "        vertical-align: middle;\n",
              "    }\n",
              "\n",
              "    .dataframe tbody tr th {\n",
              "        vertical-align: top;\n",
              "    }\n",
              "\n",
              "    .dataframe thead th {\n",
              "        text-align: right;\n",
              "    }\n",
              "</style>\n",
              "<table border=\"1\" class=\"dataframe\">\n",
              "  <thead>\n",
              "    <tr style=\"text-align: right;\">\n",
              "      <th></th>\n",
              "      <th>AppID</th>\n",
              "      <th>Game</th>\n",
              "      <th>Release date</th>\n",
              "      <th>Price</th>\n",
              "      <th>Score rank(Userscore / Metascore)</th>\n",
              "      <th>Owners</th>\n",
              "      <th>Playtime (Median)</th>\n",
              "      <th>Developer(s)</th>\n",
              "      <th>Publisher(s)</th>\n",
              "      <th>Owners(Min)</th>\n",
              "      <th>Owners(Max)</th>\n",
              "    </tr>\n",
              "  </thead>\n",
              "  <tbody>\n",
              "    <tr>\n",
              "      <th>0</th>\n",
              "      <td>120</td>\n",
              "      <td>Terraria</td>\n",
              "      <td>May 16, 2011</td>\n",
              "      <td>$9.99</td>\n",
              "      <td>N/A (N/A/83%)</td>\n",
              "      <td>20,000,000 .. 50,000,000</td>\n",
              "      <td>06:23 (02:48)</td>\n",
              "      <td>Re-Logic</td>\n",
              "      <td>Re-Logic</td>\n",
              "      <td>20,000,000</td>\n",
              "      <td>50000000</td>\n",
              "    </tr>\n",
              "    <tr>\n",
              "      <th>1</th>\n",
              "      <td>525</td>\n",
              "      <td>Rust</td>\n",
              "      <td>Feb 8, 2018</td>\n",
              "      <td>$39.99</td>\n",
              "      <td>N/A (N/A/69%)</td>\n",
              "      <td>20,000,000 .. 50,000,000</td>\n",
              "      <td>19:20 (09:08)</td>\n",
              "      <td>Facepunch Studios</td>\n",
              "      <td>Facepunch Studios</td>\n",
              "      <td>20,000,000</td>\n",
              "      <td>50000000</td>\n",
              "    </tr>\n",
              "    <tr>\n",
              "      <th>2</th>\n",
              "      <td>10</td>\n",
              "      <td>The Witcher 3: Wild Hunt</td>\n",
              "      <td>May 18, 2015</td>\n",
              "      <td>$39.99</td>\n",
              "      <td>N/A (N/A/93%)</td>\n",
              "      <td>10,000,000 .. 20,000,000</td>\n",
              "      <td>16:56 (02:10)</td>\n",
              "      <td>CD PROJEKT RED</td>\n",
              "      <td>CD PROJEKT RED</td>\n",
              "      <td>10,000,000</td>\n",
              "      <td>20000000</td>\n",
              "    </tr>\n",
              "    <tr>\n",
              "      <th>3</th>\n",
              "      <td>33</td>\n",
              "      <td>Borderlands 2</td>\n",
              "      <td>Sep 17, 2012</td>\n",
              "      <td>$19.99</td>\n",
              "      <td>N/A (N/A/89%)</td>\n",
              "      <td>10,000,000 .. 20,000,000</td>\n",
              "      <td>02:08 (02:52)</td>\n",
              "      <td>Gearbox Software, Aspyr (Mac), Aspyr (Linux)</td>\n",
              "      <td>2K, Aspyr (Mac), Aspyr (Linux)</td>\n",
              "      <td>10,000,000</td>\n",
              "      <td>20000000</td>\n",
              "    </tr>\n",
              "    <tr>\n",
              "      <th>4</th>\n",
              "      <td>34</td>\n",
              "      <td>Stardew Valley</td>\n",
              "      <td>Feb 26, 2016</td>\n",
              "      <td>$14.99</td>\n",
              "      <td>N/A (N/A/89%)</td>\n",
              "      <td>10,000,000 .. 20,000,000</td>\n",
              "      <td>08:41 (05:35)</td>\n",
              "      <td>ConcernedApe</td>\n",
              "      <td>ConcernedApe</td>\n",
              "      <td>10,000,000</td>\n",
              "      <td>20000000</td>\n",
              "    </tr>\n",
              "    <tr>\n",
              "      <th>5</th>\n",
              "      <td>64</td>\n",
              "      <td>Path of Exile</td>\n",
              "      <td>Oct 23, 2013</td>\n",
              "      <td>Free</td>\n",
              "      <td>N/A (N/A/86%)</td>\n",
              "      <td>10,000,000 .. 20,000,000</td>\n",
              "      <td>18:19 (11:21)</td>\n",
              "      <td>Grinding Gear Games</td>\n",
              "      <td>Grinding Gear Games</td>\n",
              "      <td>10,000,000</td>\n",
              "      <td>20000000</td>\n",
              "    </tr>\n",
              "    <tr>\n",
              "      <th>6</th>\n",
              "      <td>65</td>\n",
              "      <td>Cyberpunk 2077</td>\n",
              "      <td>Dec 9, 2020</td>\n",
              "      <td>$59.99</td>\n",
              "      <td>N/A (N/A/86%)</td>\n",
              "      <td>10,000,000 .. 20,000,000</td>\n",
              "      <td>24:40 (11:53)</td>\n",
              "      <td>CD PROJEKT RED</td>\n",
              "      <td>CD PROJEKT RED</td>\n",
              "      <td>10,000,000</td>\n",
              "      <td>20000000</td>\n",
              "    </tr>\n",
              "    <tr>\n",
              "      <th>7</th>\n",
              "      <td>232</td>\n",
              "      <td>PAYDAY 2</td>\n",
              "      <td>Aug 13, 2013</td>\n",
              "      <td>$9.99</td>\n",
              "      <td>N/A (N/A/79%)</td>\n",
              "      <td>10,000,000 .. 20,000,000</td>\n",
              "      <td>20:37 (04:42)</td>\n",
              "      <td>OVERKILL - a Starbreeze Studio.</td>\n",
              "      <td>Starbreeze Publishing AB</td>\n",
              "      <td>10,000,000</td>\n",
              "      <td>20000000</td>\n",
              "    </tr>\n",
              "    <tr>\n",
              "      <th>8</th>\n",
              "      <td>647</td>\n",
              "      <td>Warface</td>\n",
              "      <td>Apr 12, 2012</td>\n",
              "      <td>Free</td>\n",
              "      <td>N/A (N/A/62%)</td>\n",
              "      <td>10,000,000 .. 20,000,000</td>\n",
              "      <td>01:16 (02:06)</td>\n",
              "      <td>MY.GAMES</td>\n",
              "      <td>MY.GAMES</td>\n",
              "      <td>10,000,000</td>\n",
              "      <td>20000000</td>\n",
              "    </tr>\n",
              "    <tr>\n",
              "      <th>9</th>\n",
              "      <td>7947</td>\n",
              "      <td>Trove</td>\n",
              "      <td>Jul 9, 2015</td>\n",
              "      <td>NaN</td>\n",
              "      <td>N/A (N/A)</td>\n",
              "      <td>10,000,000 .. 20,000,000</td>\n",
              "      <td>00:48 (00:56)</td>\n",
              "      <td>Trion Worlds</td>\n",
              "      <td>Trion Worlds</td>\n",
              "      <td>10,000,000</td>\n",
              "      <td>20000000</td>\n",
              "    </tr>\n",
              "    <tr>\n",
              "      <th>10</th>\n",
              "      <td>7951</td>\n",
              "      <td>Robocraft</td>\n",
              "      <td>Aug 24, 2017</td>\n",
              "      <td>Free</td>\n",
              "      <td>N/A (N/A)</td>\n",
              "      <td>10,000,000 .. 20,000,000</td>\n",
              "      <td>00:00 (00:00)</td>\n",
              "      <td>Freejam</td>\n",
              "      <td>Freejam</td>\n",
              "      <td>10,000,000</td>\n",
              "      <td>20000000</td>\n",
              "    </tr>\n",
              "    <tr>\n",
              "      <th>11</th>\n",
              "      <td>7953</td>\n",
              "      <td>鬼谷八荒</td>\n",
              "      <td>Jan 27, 2021</td>\n",
              "      <td>$19.99</td>\n",
              "      <td>N/A (N/A)</td>\n",
              "      <td>10,000,000 .. 20,000,000</td>\n",
              "      <td>11:00 (01:22)</td>\n",
              "      <td>鬼谷工作室</td>\n",
              "      <td>鬼谷工作室, Lightning Games</td>\n",
              "      <td>10,000,000</td>\n",
              "      <td>20000000</td>\n",
              "    </tr>\n",
              "    <tr>\n",
              "      <th>12</th>\n",
              "      <td>7956</td>\n",
              "      <td>Valheim</td>\n",
              "      <td>Feb 2, 2021</td>\n",
              "      <td>$19.99</td>\n",
              "      <td>N/A (N/A)</td>\n",
              "      <td>10,000,000 .. 20,000,000</td>\n",
              "      <td>07:05 (05:03)</td>\n",
              "      <td>Iron Gate AB</td>\n",
              "      <td>Coffee Stain Publishing</td>\n",
              "      <td>10,000,000</td>\n",
              "      <td>20000000</td>\n",
              "    </tr>\n",
              "  </tbody>\n",
              "</table>\n",
              "</div>"
            ],
            "text/plain": [
              "    AppID                      Game  ... Owners(Min) Owners(Max)\n",
              "0     120                  Terraria  ...  20,000,000    50000000\n",
              "1     525                      Rust  ...  20,000,000    50000000\n",
              "2      10  The Witcher 3: Wild Hunt  ...  10,000,000    20000000\n",
              "3      33             Borderlands 2  ...  10,000,000    20000000\n",
              "4      34            Stardew Valley  ...  10,000,000    20000000\n",
              "5      64             Path of Exile  ...  10,000,000    20000000\n",
              "6      65            Cyberpunk 2077  ...  10,000,000    20000000\n",
              "7     232                  PAYDAY 2  ...  10,000,000    20000000\n",
              "8     647                   Warface  ...  10,000,000    20000000\n",
              "9    7947                     Trove  ...  10,000,000    20000000\n",
              "10   7951                 Robocraft  ...  10,000,000    20000000\n",
              "11   7953                      鬼谷八荒  ...  10,000,000    20000000\n",
              "12   7956                   Valheim  ...  10,000,000    20000000\n",
              "\n",
              "[13 rows x 11 columns]"
            ]
          },
          "metadata": {
            "tags": []
          },
          "execution_count": 84
        }
      ]
    }
  ]
}